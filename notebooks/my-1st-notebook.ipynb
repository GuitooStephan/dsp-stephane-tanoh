{
 "cells": [
  {
   "cell_type": "code",
   "execution_count": 1,
   "id": "8d789e1c",
   "metadata": {},
   "outputs": [],
   "source": [
    "import numpy as np"
   ]
  },
  {
   "cell_type": "code",
   "execution_count": 6,
   "id": "c45b45e4",
   "metadata": {},
   "outputs": [
    {
     "data": {
      "text/plain": [
       "array([[432, 657, 827],\n",
       "       [436, 351, 176],\n",
       "       [852, 709,   6],\n",
       "       [ 87,  68,  77],\n",
       "       [410, 428, 414],\n",
       "       [292, 956, 738],\n",
       "       [895, 192, 979],\n",
       "       [870, 108,  73],\n",
       "       [633, 687, 464],\n",
       "       [215, 262, 885]])"
      ]
     },
     "execution_count": 6,
     "metadata": {},
     "output_type": "execute_result"
    }
   ],
   "source": [
    "arr = np.random.randint(0, 1000, size=(10,3))\n",
    "arr"
   ]
  },
  {
   "cell_type": "code",
   "execution_count": null,
   "id": "54005f17",
   "metadata": {},
   "outputs": [],
   "source": []
  }
 ],
 "metadata": {
  "kernelspec": {
   "display_name": "Python 3 (ipykernel)",
   "language": "python",
   "name": "python3"
  },
  "language_info": {
   "codemirror_mode": {
    "name": "ipython",
    "version": 3
   },
   "file_extension": ".py",
   "mimetype": "text/x-python",
   "name": "python",
   "nbconvert_exporter": "python",
   "pygments_lexer": "ipython3",
   "version": "3.9.12"
  }
 },
 "nbformat": 4,
 "nbformat_minor": 5
}
