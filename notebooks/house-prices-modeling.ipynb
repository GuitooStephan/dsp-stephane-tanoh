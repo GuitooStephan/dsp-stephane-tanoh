{
 "cells": [
  {
   "cell_type": "code",
   "execution_count": 1,
   "id": "34f14d26",
   "metadata": {
    "ExecuteTime": {
     "end_time": "2022-04-24T13:26:17.475154Z",
     "start_time": "2022-04-24T13:26:13.424155Z"
    }
   },
   "outputs": [],
   "source": [
    "import numpy as np\n",
    "import matplotlib.pyplot as plt\n",
    "import pandas as pd\n",
    "import seaborn as sns\n",
    "from scipy.stats import norm, skew\n",
    "import sklearn\n",
    "from dython import nominal, data_utils\n",
    "\n",
    "# Change display limit to prevent truncating\n",
    "pd.set_option('display.max_rows', 500)\n",
    "pd.set_option('display.max_columns', 500)\n",
    "pd.set_option('display.width', 1000)"
   ]
  },
  {
   "cell_type": "markdown",
   "id": "75602b5d",
   "metadata": {},
   "source": [
    "## Data Loading"
   ]
  },
  {
   "cell_type": "code",
   "execution_count": 2,
   "id": "bd000830",
   "metadata": {
    "ExecuteTime": {
     "end_time": "2022-04-24T13:26:17.513624Z",
     "start_time": "2022-04-24T13:26:17.479530Z"
    }
   },
   "outputs": [],
   "source": [
    "# Loading of train and test data\n",
    "train_data_raw = pd.read_csv('../data/train.csv')"
   ]
  },
  {
   "cell_type": "code",
   "execution_count": 3,
   "id": "2aa56697",
   "metadata": {
    "ExecuteTime": {
     "end_time": "2022-04-24T13:26:20.235332Z",
     "start_time": "2022-04-24T13:26:20.208451Z"
    }
   },
   "outputs": [
    {
     "data": {
      "text/plain": [
       "(1022, 81)"
      ]
     },
     "execution_count": 3,
     "metadata": {},
     "output_type": "execute_result"
    }
   ],
   "source": [
    "from sklearn.model_selection import train_test_split\n",
    "\n",
    "y = train_data_raw[\"SalePrice\"]\n",
    "X = train_data_raw.drop(\"SalePrice\", axis=1)\n",
    "\n",
    "X_train, X_test, y_train, y_test = train_test_split(X, y, test_size = 0.3, random_state = 0)\n",
    "\n",
    "train_data = pd.concat([X_train, y_train], axis=1)\n",
    "test_data = pd.concat([X_test, y_test], axis=1)\n",
    "\n",
    "train_data.shape"
   ]
  },
  {
   "cell_type": "code",
   "execution_count": 4,
   "id": "fbedf043",
   "metadata": {
    "ExecuteTime": {
     "end_time": "2022-04-24T13:26:22.685232Z",
     "start_time": "2022-04-24T13:26:22.611214Z"
    }
   },
   "outputs": [
    {
     "data": {
      "text/html": [
       "<div>\n",
       "<style scoped>\n",
       "    .dataframe tbody tr th:only-of-type {\n",
       "        vertical-align: middle;\n",
       "    }\n",
       "\n",
       "    .dataframe tbody tr th {\n",
       "        vertical-align: top;\n",
       "    }\n",
       "\n",
       "    .dataframe thead th {\n",
       "        text-align: right;\n",
       "    }\n",
       "</style>\n",
       "<table border=\"1\" class=\"dataframe\">\n",
       "  <thead>\n",
       "    <tr style=\"text-align: right;\">\n",
       "      <th></th>\n",
       "      <th>Id</th>\n",
       "      <th>MSSubClass</th>\n",
       "      <th>MSZoning</th>\n",
       "      <th>LotFrontage</th>\n",
       "      <th>LotArea</th>\n",
       "      <th>Street</th>\n",
       "      <th>Alley</th>\n",
       "      <th>LotShape</th>\n",
       "      <th>LandContour</th>\n",
       "      <th>Utilities</th>\n",
       "      <th>LotConfig</th>\n",
       "      <th>LandSlope</th>\n",
       "      <th>Neighborhood</th>\n",
       "      <th>Condition1</th>\n",
       "      <th>Condition2</th>\n",
       "      <th>BldgType</th>\n",
       "      <th>HouseStyle</th>\n",
       "      <th>OverallQual</th>\n",
       "      <th>OverallCond</th>\n",
       "      <th>YearBuilt</th>\n",
       "      <th>YearRemodAdd</th>\n",
       "      <th>RoofStyle</th>\n",
       "      <th>RoofMatl</th>\n",
       "      <th>Exterior1st</th>\n",
       "      <th>Exterior2nd</th>\n",
       "      <th>MasVnrType</th>\n",
       "      <th>MasVnrArea</th>\n",
       "      <th>ExterQual</th>\n",
       "      <th>ExterCond</th>\n",
       "      <th>Foundation</th>\n",
       "      <th>BsmtQual</th>\n",
       "      <th>BsmtCond</th>\n",
       "      <th>BsmtExposure</th>\n",
       "      <th>BsmtFinType1</th>\n",
       "      <th>BsmtFinSF1</th>\n",
       "      <th>BsmtFinType2</th>\n",
       "      <th>BsmtFinSF2</th>\n",
       "      <th>BsmtUnfSF</th>\n",
       "      <th>TotalBsmtSF</th>\n",
       "      <th>Heating</th>\n",
       "      <th>HeatingQC</th>\n",
       "      <th>CentralAir</th>\n",
       "      <th>Electrical</th>\n",
       "      <th>1stFlrSF</th>\n",
       "      <th>2ndFlrSF</th>\n",
       "      <th>LowQualFinSF</th>\n",
       "      <th>GrLivArea</th>\n",
       "      <th>BsmtFullBath</th>\n",
       "      <th>BsmtHalfBath</th>\n",
       "      <th>FullBath</th>\n",
       "      <th>HalfBath</th>\n",
       "      <th>BedroomAbvGr</th>\n",
       "      <th>KitchenAbvGr</th>\n",
       "      <th>KitchenQual</th>\n",
       "      <th>TotRmsAbvGrd</th>\n",
       "      <th>Functional</th>\n",
       "      <th>Fireplaces</th>\n",
       "      <th>FireplaceQu</th>\n",
       "      <th>GarageType</th>\n",
       "      <th>GarageYrBlt</th>\n",
       "      <th>GarageFinish</th>\n",
       "      <th>GarageCars</th>\n",
       "      <th>GarageArea</th>\n",
       "      <th>GarageQual</th>\n",
       "      <th>GarageCond</th>\n",
       "      <th>PavedDrive</th>\n",
       "      <th>WoodDeckSF</th>\n",
       "      <th>OpenPorchSF</th>\n",
       "      <th>EnclosedPorch</th>\n",
       "      <th>3SsnPorch</th>\n",
       "      <th>ScreenPorch</th>\n",
       "      <th>PoolArea</th>\n",
       "      <th>PoolQC</th>\n",
       "      <th>Fence</th>\n",
       "      <th>MiscFeature</th>\n",
       "      <th>MiscVal</th>\n",
       "      <th>MoSold</th>\n",
       "      <th>YrSold</th>\n",
       "      <th>SaleType</th>\n",
       "      <th>SaleCondition</th>\n",
       "      <th>SalePrice</th>\n",
       "    </tr>\n",
       "  </thead>\n",
       "  <tbody>\n",
       "    <tr>\n",
       "      <th>763</th>\n",
       "      <td>764</td>\n",
       "      <td>60</td>\n",
       "      <td>RL</td>\n",
       "      <td>82.0</td>\n",
       "      <td>9430</td>\n",
       "      <td>Pave</td>\n",
       "      <td>NaN</td>\n",
       "      <td>Reg</td>\n",
       "      <td>Lvl</td>\n",
       "      <td>AllPub</td>\n",
       "      <td>Inside</td>\n",
       "      <td>Gtl</td>\n",
       "      <td>NoRidge</td>\n",
       "      <td>Norm</td>\n",
       "      <td>Norm</td>\n",
       "      <td>1Fam</td>\n",
       "      <td>2Story</td>\n",
       "      <td>8</td>\n",
       "      <td>5</td>\n",
       "      <td>1999</td>\n",
       "      <td>1999</td>\n",
       "      <td>Gable</td>\n",
       "      <td>CompShg</td>\n",
       "      <td>VinylSd</td>\n",
       "      <td>VinylSd</td>\n",
       "      <td>BrkFace</td>\n",
       "      <td>673.0</td>\n",
       "      <td>Gd</td>\n",
       "      <td>TA</td>\n",
       "      <td>PConc</td>\n",
       "      <td>Gd</td>\n",
       "      <td>TA</td>\n",
       "      <td>Mn</td>\n",
       "      <td>GLQ</td>\n",
       "      <td>1163</td>\n",
       "      <td>Unf</td>\n",
       "      <td>0</td>\n",
       "      <td>89</td>\n",
       "      <td>1252</td>\n",
       "      <td>GasA</td>\n",
       "      <td>Ex</td>\n",
       "      <td>Y</td>\n",
       "      <td>SBrkr</td>\n",
       "      <td>1268</td>\n",
       "      <td>1097</td>\n",
       "      <td>0</td>\n",
       "      <td>2365</td>\n",
       "      <td>1</td>\n",
       "      <td>0</td>\n",
       "      <td>2</td>\n",
       "      <td>1</td>\n",
       "      <td>3</td>\n",
       "      <td>1</td>\n",
       "      <td>Gd</td>\n",
       "      <td>8</td>\n",
       "      <td>Typ</td>\n",
       "      <td>1</td>\n",
       "      <td>Gd</td>\n",
       "      <td>Attchd</td>\n",
       "      <td>1999.0</td>\n",
       "      <td>RFn</td>\n",
       "      <td>3</td>\n",
       "      <td>856</td>\n",
       "      <td>TA</td>\n",
       "      <td>TA</td>\n",
       "      <td>Y</td>\n",
       "      <td>0</td>\n",
       "      <td>128</td>\n",
       "      <td>0</td>\n",
       "      <td>0</td>\n",
       "      <td>180</td>\n",
       "      <td>0</td>\n",
       "      <td>NaN</td>\n",
       "      <td>NaN</td>\n",
       "      <td>NaN</td>\n",
       "      <td>0</td>\n",
       "      <td>7</td>\n",
       "      <td>2009</td>\n",
       "      <td>WD</td>\n",
       "      <td>Normal</td>\n",
       "      <td>337000</td>\n",
       "    </tr>\n",
       "    <tr>\n",
       "      <th>835</th>\n",
       "      <td>836</td>\n",
       "      <td>20</td>\n",
       "      <td>RL</td>\n",
       "      <td>60.0</td>\n",
       "      <td>9600</td>\n",
       "      <td>Pave</td>\n",
       "      <td>NaN</td>\n",
       "      <td>Reg</td>\n",
       "      <td>Lvl</td>\n",
       "      <td>AllPub</td>\n",
       "      <td>Inside</td>\n",
       "      <td>Gtl</td>\n",
       "      <td>Sawyer</td>\n",
       "      <td>Norm</td>\n",
       "      <td>Norm</td>\n",
       "      <td>1Fam</td>\n",
       "      <td>1Story</td>\n",
       "      <td>4</td>\n",
       "      <td>7</td>\n",
       "      <td>1950</td>\n",
       "      <td>1995</td>\n",
       "      <td>Gable</td>\n",
       "      <td>CompShg</td>\n",
       "      <td>VinylSd</td>\n",
       "      <td>HdBoard</td>\n",
       "      <td>None</td>\n",
       "      <td>0.0</td>\n",
       "      <td>TA</td>\n",
       "      <td>TA</td>\n",
       "      <td>CBlock</td>\n",
       "      <td>Gd</td>\n",
       "      <td>TA</td>\n",
       "      <td>No</td>\n",
       "      <td>BLQ</td>\n",
       "      <td>442</td>\n",
       "      <td>Unf</td>\n",
       "      <td>0</td>\n",
       "      <td>625</td>\n",
       "      <td>1067</td>\n",
       "      <td>GasA</td>\n",
       "      <td>TA</td>\n",
       "      <td>Y</td>\n",
       "      <td>SBrkr</td>\n",
       "      <td>1067</td>\n",
       "      <td>0</td>\n",
       "      <td>0</td>\n",
       "      <td>1067</td>\n",
       "      <td>0</td>\n",
       "      <td>0</td>\n",
       "      <td>2</td>\n",
       "      <td>0</td>\n",
       "      <td>2</td>\n",
       "      <td>1</td>\n",
       "      <td>Gd</td>\n",
       "      <td>4</td>\n",
       "      <td>Min2</td>\n",
       "      <td>0</td>\n",
       "      <td>NaN</td>\n",
       "      <td>Attchd</td>\n",
       "      <td>1996.0</td>\n",
       "      <td>Unf</td>\n",
       "      <td>2</td>\n",
       "      <td>436</td>\n",
       "      <td>TA</td>\n",
       "      <td>TA</td>\n",
       "      <td>Y</td>\n",
       "      <td>290</td>\n",
       "      <td>0</td>\n",
       "      <td>0</td>\n",
       "      <td>0</td>\n",
       "      <td>0</td>\n",
       "      <td>0</td>\n",
       "      <td>NaN</td>\n",
       "      <td>NaN</td>\n",
       "      <td>NaN</td>\n",
       "      <td>0</td>\n",
       "      <td>2</td>\n",
       "      <td>2010</td>\n",
       "      <td>WD</td>\n",
       "      <td>Normal</td>\n",
       "      <td>128000</td>\n",
       "    </tr>\n",
       "    <tr>\n",
       "      <th>1216</th>\n",
       "      <td>1217</td>\n",
       "      <td>90</td>\n",
       "      <td>RM</td>\n",
       "      <td>68.0</td>\n",
       "      <td>8930</td>\n",
       "      <td>Pave</td>\n",
       "      <td>NaN</td>\n",
       "      <td>Reg</td>\n",
       "      <td>Lvl</td>\n",
       "      <td>AllPub</td>\n",
       "      <td>Inside</td>\n",
       "      <td>Gtl</td>\n",
       "      <td>Sawyer</td>\n",
       "      <td>RRAe</td>\n",
       "      <td>Norm</td>\n",
       "      <td>Duplex</td>\n",
       "      <td>1.5Fin</td>\n",
       "      <td>6</td>\n",
       "      <td>5</td>\n",
       "      <td>1978</td>\n",
       "      <td>1978</td>\n",
       "      <td>Gable</td>\n",
       "      <td>CompShg</td>\n",
       "      <td>VinylSd</td>\n",
       "      <td>VinylSd</td>\n",
       "      <td>None</td>\n",
       "      <td>0.0</td>\n",
       "      <td>TA</td>\n",
       "      <td>TA</td>\n",
       "      <td>Slab</td>\n",
       "      <td>NaN</td>\n",
       "      <td>NaN</td>\n",
       "      <td>NaN</td>\n",
       "      <td>NaN</td>\n",
       "      <td>0</td>\n",
       "      <td>NaN</td>\n",
       "      <td>0</td>\n",
       "      <td>0</td>\n",
       "      <td>0</td>\n",
       "      <td>GasA</td>\n",
       "      <td>TA</td>\n",
       "      <td>Y</td>\n",
       "      <td>SBrkr</td>\n",
       "      <td>1318</td>\n",
       "      <td>584</td>\n",
       "      <td>0</td>\n",
       "      <td>1902</td>\n",
       "      <td>0</td>\n",
       "      <td>0</td>\n",
       "      <td>2</td>\n",
       "      <td>0</td>\n",
       "      <td>4</td>\n",
       "      <td>2</td>\n",
       "      <td>TA</td>\n",
       "      <td>8</td>\n",
       "      <td>Typ</td>\n",
       "      <td>0</td>\n",
       "      <td>NaN</td>\n",
       "      <td>Attchd</td>\n",
       "      <td>1978.0</td>\n",
       "      <td>Unf</td>\n",
       "      <td>2</td>\n",
       "      <td>539</td>\n",
       "      <td>TA</td>\n",
       "      <td>TA</td>\n",
       "      <td>Y</td>\n",
       "      <td>0</td>\n",
       "      <td>0</td>\n",
       "      <td>0</td>\n",
       "      <td>0</td>\n",
       "      <td>0</td>\n",
       "      <td>0</td>\n",
       "      <td>NaN</td>\n",
       "      <td>NaN</td>\n",
       "      <td>NaN</td>\n",
       "      <td>0</td>\n",
       "      <td>4</td>\n",
       "      <td>2010</td>\n",
       "      <td>WD</td>\n",
       "      <td>Normal</td>\n",
       "      <td>112000</td>\n",
       "    </tr>\n",
       "    <tr>\n",
       "      <th>559</th>\n",
       "      <td>560</td>\n",
       "      <td>120</td>\n",
       "      <td>RL</td>\n",
       "      <td>NaN</td>\n",
       "      <td>3196</td>\n",
       "      <td>Pave</td>\n",
       "      <td>NaN</td>\n",
       "      <td>Reg</td>\n",
       "      <td>Lvl</td>\n",
       "      <td>AllPub</td>\n",
       "      <td>Inside</td>\n",
       "      <td>Gtl</td>\n",
       "      <td>Blmngtn</td>\n",
       "      <td>Norm</td>\n",
       "      <td>Norm</td>\n",
       "      <td>TwnhsE</td>\n",
       "      <td>1Story</td>\n",
       "      <td>7</td>\n",
       "      <td>5</td>\n",
       "      <td>2003</td>\n",
       "      <td>2004</td>\n",
       "      <td>Gable</td>\n",
       "      <td>CompShg</td>\n",
       "      <td>VinylSd</td>\n",
       "      <td>VinylSd</td>\n",
       "      <td>BrkFace</td>\n",
       "      <td>18.0</td>\n",
       "      <td>Gd</td>\n",
       "      <td>TA</td>\n",
       "      <td>PConc</td>\n",
       "      <td>Gd</td>\n",
       "      <td>TA</td>\n",
       "      <td>Gd</td>\n",
       "      <td>Unf</td>\n",
       "      <td>0</td>\n",
       "      <td>Unf</td>\n",
       "      <td>0</td>\n",
       "      <td>1374</td>\n",
       "      <td>1374</td>\n",
       "      <td>GasA</td>\n",
       "      <td>Ex</td>\n",
       "      <td>Y</td>\n",
       "      <td>SBrkr</td>\n",
       "      <td>1557</td>\n",
       "      <td>0</td>\n",
       "      <td>0</td>\n",
       "      <td>1557</td>\n",
       "      <td>0</td>\n",
       "      <td>0</td>\n",
       "      <td>2</td>\n",
       "      <td>0</td>\n",
       "      <td>2</td>\n",
       "      <td>1</td>\n",
       "      <td>Gd</td>\n",
       "      <td>7</td>\n",
       "      <td>Typ</td>\n",
       "      <td>1</td>\n",
       "      <td>TA</td>\n",
       "      <td>Attchd</td>\n",
       "      <td>2003.0</td>\n",
       "      <td>Fin</td>\n",
       "      <td>2</td>\n",
       "      <td>420</td>\n",
       "      <td>TA</td>\n",
       "      <td>TA</td>\n",
       "      <td>Y</td>\n",
       "      <td>143</td>\n",
       "      <td>20</td>\n",
       "      <td>0</td>\n",
       "      <td>0</td>\n",
       "      <td>0</td>\n",
       "      <td>0</td>\n",
       "      <td>NaN</td>\n",
       "      <td>NaN</td>\n",
       "      <td>NaN</td>\n",
       "      <td>0</td>\n",
       "      <td>10</td>\n",
       "      <td>2006</td>\n",
       "      <td>WD</td>\n",
       "      <td>Normal</td>\n",
       "      <td>234000</td>\n",
       "    </tr>\n",
       "    <tr>\n",
       "      <th>684</th>\n",
       "      <td>685</td>\n",
       "      <td>60</td>\n",
       "      <td>RL</td>\n",
       "      <td>58.0</td>\n",
       "      <td>16770</td>\n",
       "      <td>Pave</td>\n",
       "      <td>NaN</td>\n",
       "      <td>IR2</td>\n",
       "      <td>Lvl</td>\n",
       "      <td>AllPub</td>\n",
       "      <td>CulDSac</td>\n",
       "      <td>Gtl</td>\n",
       "      <td>NoRidge</td>\n",
       "      <td>Norm</td>\n",
       "      <td>Norm</td>\n",
       "      <td>1Fam</td>\n",
       "      <td>2Story</td>\n",
       "      <td>7</td>\n",
       "      <td>5</td>\n",
       "      <td>1998</td>\n",
       "      <td>1998</td>\n",
       "      <td>Gable</td>\n",
       "      <td>CompShg</td>\n",
       "      <td>VinylSd</td>\n",
       "      <td>VinylSd</td>\n",
       "      <td>BrkFace</td>\n",
       "      <td>30.0</td>\n",
       "      <td>Gd</td>\n",
       "      <td>TA</td>\n",
       "      <td>PConc</td>\n",
       "      <td>Gd</td>\n",
       "      <td>TA</td>\n",
       "      <td>No</td>\n",
       "      <td>Unf</td>\n",
       "      <td>0</td>\n",
       "      <td>Unf</td>\n",
       "      <td>0</td>\n",
       "      <td>1195</td>\n",
       "      <td>1195</td>\n",
       "      <td>GasA</td>\n",
       "      <td>Gd</td>\n",
       "      <td>Y</td>\n",
       "      <td>SBrkr</td>\n",
       "      <td>1195</td>\n",
       "      <td>644</td>\n",
       "      <td>0</td>\n",
       "      <td>1839</td>\n",
       "      <td>0</td>\n",
       "      <td>0</td>\n",
       "      <td>2</td>\n",
       "      <td>1</td>\n",
       "      <td>4</td>\n",
       "      <td>1</td>\n",
       "      <td>TA</td>\n",
       "      <td>7</td>\n",
       "      <td>Typ</td>\n",
       "      <td>0</td>\n",
       "      <td>NaN</td>\n",
       "      <td>Attchd</td>\n",
       "      <td>1998.0</td>\n",
       "      <td>Fin</td>\n",
       "      <td>2</td>\n",
       "      <td>486</td>\n",
       "      <td>TA</td>\n",
       "      <td>TA</td>\n",
       "      <td>Y</td>\n",
       "      <td>0</td>\n",
       "      <td>81</td>\n",
       "      <td>0</td>\n",
       "      <td>0</td>\n",
       "      <td>0</td>\n",
       "      <td>0</td>\n",
       "      <td>NaN</td>\n",
       "      <td>NaN</td>\n",
       "      <td>NaN</td>\n",
       "      <td>0</td>\n",
       "      <td>6</td>\n",
       "      <td>2010</td>\n",
       "      <td>WD</td>\n",
       "      <td>Normal</td>\n",
       "      <td>221000</td>\n",
       "    </tr>\n",
       "  </tbody>\n",
       "</table>\n",
       "</div>"
      ],
      "text/plain": [
       "        Id  MSSubClass MSZoning  LotFrontage  LotArea Street Alley LotShape LandContour Utilities LotConfig LandSlope Neighborhood Condition1 Condition2 BldgType HouseStyle  OverallQual  OverallCond  YearBuilt  YearRemodAdd RoofStyle RoofMatl Exterior1st Exterior2nd MasVnrType  MasVnrArea ExterQual ExterCond Foundation BsmtQual BsmtCond BsmtExposure BsmtFinType1  BsmtFinSF1 BsmtFinType2  BsmtFinSF2  BsmtUnfSF  TotalBsmtSF Heating HeatingQC CentralAir Electrical  1stFlrSF  2ndFlrSF  LowQualFinSF  GrLivArea  BsmtFullBath  BsmtHalfBath  FullBath  HalfBath  BedroomAbvGr  KitchenAbvGr KitchenQual  TotRmsAbvGrd Functional  Fireplaces FireplaceQu GarageType  GarageYrBlt GarageFinish  GarageCars  GarageArea GarageQual GarageCond PavedDrive  WoodDeckSF  OpenPorchSF  EnclosedPorch  3SsnPorch  ScreenPorch  PoolArea PoolQC Fence MiscFeature  MiscVal  MoSold  YrSold SaleType SaleCondition  SalePrice\n",
       "763    764          60       RL         82.0     9430   Pave   NaN      Reg         Lvl    AllPub    Inside       Gtl      NoRidge       Norm       Norm     1Fam     2Story            8            5       1999          1999     Gable  CompShg     VinylSd     VinylSd    BrkFace       673.0        Gd        TA      PConc       Gd       TA           Mn          GLQ        1163          Unf           0         89         1252    GasA        Ex          Y      SBrkr      1268      1097             0       2365             1             0         2         1             3             1          Gd             8        Typ           1          Gd     Attchd       1999.0          RFn           3         856         TA         TA          Y           0          128              0          0          180         0    NaN   NaN         NaN        0       7    2009       WD        Normal     337000\n",
       "835    836          20       RL         60.0     9600   Pave   NaN      Reg         Lvl    AllPub    Inside       Gtl       Sawyer       Norm       Norm     1Fam     1Story            4            7       1950          1995     Gable  CompShg     VinylSd     HdBoard       None         0.0        TA        TA     CBlock       Gd       TA           No          BLQ         442          Unf           0        625         1067    GasA        TA          Y      SBrkr      1067         0             0       1067             0             0         2         0             2             1          Gd             4       Min2           0         NaN     Attchd       1996.0          Unf           2         436         TA         TA          Y         290            0              0          0            0         0    NaN   NaN         NaN        0       2    2010       WD        Normal     128000\n",
       "1216  1217          90       RM         68.0     8930   Pave   NaN      Reg         Lvl    AllPub    Inside       Gtl       Sawyer       RRAe       Norm   Duplex     1.5Fin            6            5       1978          1978     Gable  CompShg     VinylSd     VinylSd       None         0.0        TA        TA       Slab      NaN      NaN          NaN          NaN           0          NaN           0          0            0    GasA        TA          Y      SBrkr      1318       584             0       1902             0             0         2         0             4             2          TA             8        Typ           0         NaN     Attchd       1978.0          Unf           2         539         TA         TA          Y           0            0              0          0            0         0    NaN   NaN         NaN        0       4    2010       WD        Normal     112000\n",
       "559    560         120       RL          NaN     3196   Pave   NaN      Reg         Lvl    AllPub    Inside       Gtl      Blmngtn       Norm       Norm   TwnhsE     1Story            7            5       2003          2004     Gable  CompShg     VinylSd     VinylSd    BrkFace        18.0        Gd        TA      PConc       Gd       TA           Gd          Unf           0          Unf           0       1374         1374    GasA        Ex          Y      SBrkr      1557         0             0       1557             0             0         2         0             2             1          Gd             7        Typ           1          TA     Attchd       2003.0          Fin           2         420         TA         TA          Y         143           20              0          0            0         0    NaN   NaN         NaN        0      10    2006       WD        Normal     234000\n",
       "684    685          60       RL         58.0    16770   Pave   NaN      IR2         Lvl    AllPub   CulDSac       Gtl      NoRidge       Norm       Norm     1Fam     2Story            7            5       1998          1998     Gable  CompShg     VinylSd     VinylSd    BrkFace        30.0        Gd        TA      PConc       Gd       TA           No          Unf           0          Unf           0       1195         1195    GasA        Gd          Y      SBrkr      1195       644             0       1839             0             0         2         1             4             1          TA             7        Typ           0         NaN     Attchd       1998.0          Fin           2         486         TA         TA          Y           0           81              0          0            0         0    NaN   NaN         NaN        0       6    2010       WD        Normal     221000"
      ]
     },
     "execution_count": 4,
     "metadata": {},
     "output_type": "execute_result"
    }
   ],
   "source": [
    "train_data.tail(5)"
   ]
  },
  {
   "cell_type": "markdown",
   "id": "52fa1c29",
   "metadata": {},
   "source": [
    "## Model training"
   ]
  },
  {
   "cell_type": "markdown",
   "id": "2761e8c0",
   "metadata": {},
   "source": [
    "### Data Preprocessing"
   ]
  },
  {
   "cell_type": "code",
   "execution_count": 5,
   "id": "618a62d7",
   "metadata": {
    "ExecuteTime": {
     "end_time": "2022-04-24T13:26:57.239132Z",
     "start_time": "2022-04-24T13:26:57.206892Z"
    },
    "scrolled": true
   },
   "outputs": [],
   "source": [
    "# Adjust Feature Types, Some categorical features appeared as continuous\n",
    "train_data = train_data.astype({\n",
    "    \"MSSubClass\": object,\n",
    "    \"OverallQual\": object,\n",
    "    \"OverallCond\": object,\n",
    "    \"MoSold\": object,\n",
    "    \"YrSold\": object,\n",
    "    \"YearBuilt\": object,\n",
    "    \"YearRemodAdd\": object,\n",
    "    \"BsmtFullBath\": object,\n",
    "    \"BsmtHalfBath\": object,\n",
    "    \"FullBath\": object,\n",
    "    \"HalfBath\": object,\n",
    "    \"BedroomAbvGr\": object,\n",
    "    \"KitchenAbvGr\": object,\n",
    "    \"TotRmsAbvGrd\": object,\n",
    "    \"Fireplaces\": object,\n",
    "    \"GarageYrBlt\": object,\n",
    "    \"GarageCars\": object\n",
    "})"
   ]
  },
  {
   "cell_type": "code",
   "execution_count": 6,
   "id": "04e274b2",
   "metadata": {
    "ExecuteTime": {
     "end_time": "2022-04-24T13:27:02.696903Z",
     "start_time": "2022-04-24T13:27:02.685780Z"
    }
   },
   "outputs": [],
   "source": [
    "# Create additional features for better predictions\n",
    "\n",
    "from datetime import date\n",
    "\n",
    "todays_date = date.today()\n",
    "train_data['YearsSinceBuilt'] = todays_date.year - train_data['YearBuilt']\n",
    "train_data['YearsSinceRemodAdd'] = todays_date.year - train_data['YearRemodAdd']\n",
    "train_data['YearsSinceGarageYrBlt'] = todays_date.year - train_data['GarageYrBlt']"
   ]
  },
  {
   "cell_type": "markdown",
   "id": "0a6b6619",
   "metadata": {},
   "source": [
    "### Data Cleaning"
   ]
  },
  {
   "cell_type": "code",
   "execution_count": 7,
   "id": "b6f4e359",
   "metadata": {
    "ExecuteTime": {
     "end_time": "2022-04-24T13:27:09.546258Z",
     "start_time": "2022-04-24T13:27:09.530667Z"
    }
   },
   "outputs": [],
   "source": [
    "selected_features = ['GrLivArea', 'GarageArea', 'TotalBsmtSF', 'HouseStyle', 'Neighborhood', 'OverallQual', 'ExterQual', 'KitchenQual', 'Functional', 'FireplaceQu', 'YearsSinceBuilt', 'YearsSinceRemodAdd', 'BsmtExposure', 'HalfBath', 'YearsSinceGarageYrBlt', 'Electrical', 'BsmtFullBath', 'BldgType', 'KitchenAbvGr', 'Heating', 'CentralAir', 'GarageType', 'GarageFinish', 'BsmtQual', 'SalePrice']\n",
    "train_data = train_data[selected_features]"
   ]
  },
  {
   "cell_type": "code",
   "execution_count": 8,
   "id": "25055c51",
   "metadata": {
    "ExecuteTime": {
     "end_time": "2022-04-24T13:27:16.005071Z",
     "start_time": "2022-04-24T13:27:15.956207Z"
    }
   },
   "outputs": [
    {
     "data": {
      "text/plain": [
       "0"
      ]
     },
     "execution_count": 8,
     "metadata": {},
     "output_type": "execute_result"
    }
   ],
   "source": [
    "%%capture --no-display\n",
    "# Specify null values in BsmtQual as No (No basement)\n",
    "train_data.loc[:, 'BsmtQual'] = train_data.loc[:, 'BsmtQual'].fillna('No')\n",
    "train_data.loc[:, 'GarageType'] = train_data.loc[:, 'GarageType'].fillna('No')\n",
    "train_data.loc[:, 'GarageFinish'] = train_data.loc[:, 'GarageFinish'].fillna('No')\n",
    "train_data.loc[:, 'FireplaceQu'] = train_data.loc[:, 'FireplaceQu'].fillna('No')\n",
    "train_data.loc[:, 'BsmtExposure'] = train_data.loc[:, 'BsmtExposure'].fillna('No')\n",
    "train_data.loc[:, 'YearsSinceGarageYrBlt'] = train_data.loc[:, 'YearsSinceGarageYrBlt'].fillna(0)\n",
    "\n",
    "train_data = train_data.dropna(subset='Electrical')\n",
    "train_data.reset_index(inplace=True)\n",
    "\n",
    "train_data.isna().values.sum()"
   ]
  },
  {
   "cell_type": "markdown",
   "id": "dff24acf",
   "metadata": {},
   "source": [
    "### Data Selection"
   ]
  },
  {
   "cell_type": "code",
   "execution_count": 9,
   "id": "5400e5cc",
   "metadata": {
    "ExecuteTime": {
     "end_time": "2022-04-24T13:28:05.398341Z",
     "start_time": "2022-04-24T13:28:05.394391Z"
    }
   },
   "outputs": [],
   "source": [
    "selected_categorical_features = ['HouseStyle', 'CentralAir', 'GarageType', 'GarageFinish', 'Neighborhood', 'OverallQual', 'ExterQual', 'KitchenQual', 'Functional', 'FireplaceQu', 'Heating', 'BsmtExposure', 'HalfBath', 'YearsSinceGarageYrBlt', 'Electrical', 'BsmtFullBath', 'BldgType', 'KitchenAbvGr', 'BsmtQual']\n",
    "selected_continuous_features = ['GrLivArea', 'GarageArea', 'TotalBsmtSF', 'YearsSinceBuilt', 'YearsSinceRemodAdd']"
   ]
  },
  {
   "cell_type": "code",
   "execution_count": 10,
   "id": "6d5bfa16",
   "metadata": {
    "ExecuteTime": {
     "end_time": "2022-04-24T13:28:07.038126Z",
     "start_time": "2022-04-24T13:28:07.029979Z"
    }
   },
   "outputs": [],
   "source": [
    "# Our target feature\n",
    "# Transformate it using the log function to correct the distribution\n",
    "y_train = np.log1p(train_data['SalePrice'])"
   ]
  },
  {
   "cell_type": "code",
   "execution_count": 11,
   "id": "eaea9b45",
   "metadata": {
    "ExecuteTime": {
     "end_time": "2022-04-24T13:28:11.089495Z",
     "start_time": "2022-04-24T13:28:11.078667Z"
    }
   },
   "outputs": [],
   "source": [
    "# Our predictors\n",
    "X_train_cat = train_data[selected_categorical_features]\n",
    "X_train_con = train_data[selected_continuous_features]"
   ]
  },
  {
   "cell_type": "markdown",
   "id": "d8c1a272",
   "metadata": {},
   "source": [
    "### Data Transformation"
   ]
  },
  {
   "cell_type": "code",
   "execution_count": 12,
   "id": "5d0c5029",
   "metadata": {
    "ExecuteTime": {
     "end_time": "2022-04-24T13:28:36.960732Z",
     "start_time": "2022-04-24T13:28:36.665382Z"
    }
   },
   "outputs": [
    {
     "name": "stderr",
     "output_type": "stream",
     "text": [
      "/tmp/ipykernel_23733/2824673551.py:5: SettingWithCopyWarning: \n",
      "A value is trying to be set on a copy of a slice from a DataFrame.\n",
      "Try using .loc[row_indexer,col_indexer] = value instead\n",
      "\n",
      "See the caveats in the documentation: https://pandas.pydata.org/pandas-docs/stable/user_guide/indexing.html#returning-a-view-versus-a-copy\n",
      "  X_train_con[skewed_features] = np.log1p(X_train_con[skewed_features].astype(float))\n"
     ]
    }
   ],
   "source": [
    "# Transform the continuous features with the skewness of more than 0.5\n",
    "skewness = X_train_con.apply(lambda x: skew(x))\n",
    "skewness = skewness[abs(skewness) > 0.5]\n",
    "skewed_features = skewness.index\n",
    "X_train_con[skewed_features] = np.log1p(X_train_con[skewed_features].astype(float))"
   ]
  },
  {
   "cell_type": "markdown",
   "id": "843cfc66",
   "metadata": {},
   "source": [
    "### Data Encoding"
   ]
  },
  {
   "cell_type": "markdown",
   "id": "337e1dd9",
   "metadata": {},
   "source": [
    "#### Ordinal Encoding"
   ]
  },
  {
   "cell_type": "code",
   "execution_count": 13,
   "id": "67659114",
   "metadata": {
    "ExecuteTime": {
     "end_time": "2022-04-24T13:30:15.270241Z",
     "start_time": "2022-04-24T13:30:15.251718Z"
    }
   },
   "outputs": [],
   "source": [
    "from sklearn.preprocessing import OrdinalEncoder\n",
    "oe = OrdinalEncoder(categories=[\n",
    "    [\"No\", \"Po\", \"Fa\", \"TA\", \"Gd\", \"Ex\"],\n",
    "    [\"N\", \"Y\"],\n",
    "    [\"Po\", \"Fa\", \"TA\", \"Gd\", \"Ex\"],\n",
    "    [\"Po\", \"Fa\", \"TA\", \"Gd\", \"Ex\"],\n",
    "    [\"No\", \"Unf\", \"RFn\", \"Fin\"],\n",
    "    [\"Sal\", \"Sev\", \"Maj2\", \"Maj1\", \"Mod\", \"Min2\", \"Min1\", \"Typ\"],\n",
    "    [\"No\", \"Po\", \"Fa\", \"TA\", \"Gd\", \"Ex\"],\n",
    "    [\"No\", \"Mn\", \"Av\", \"Gd\"]\n",
    "])\n",
    "\n",
    "ordinal_encoded_colums = ['BsmtQual', 'CentralAir', 'ExterQual', 'KitchenQual', 'GarageFinish', 'Functional', 'FireplaceQu', 'BsmtExposure']\n",
    "X_train_cat_ordinal_encoded_array = oe.fit_transform(X_train_cat[ordinal_encoded_colums])\n",
    "X_train_cat_ordinal_encoded = pd.DataFrame(X_train_cat_ordinal_encoded_array, columns=ordinal_encoded_colums)\n",
    "X_train_cat_not_one_encoded = X_train_cat.drop(ordinal_encoded_colums, axis=1)\n",
    "X_train_cat = pd.concat([X_train_cat_ordinal_encoded, X_train_cat_not_one_encoded], axis=1)"
   ]
  },
  {
   "cell_type": "markdown",
   "id": "3a7049dd",
   "metadata": {},
   "source": [
    "#### One-Hot Encoding"
   ]
  },
  {
   "cell_type": "code",
   "execution_count": 14,
   "id": "a4df7f07",
   "metadata": {
    "ExecuteTime": {
     "end_time": "2022-04-24T13:30:20.602357Z",
     "start_time": "2022-04-24T13:30:20.581902Z"
    }
   },
   "outputs": [],
   "source": [
    "# Apply One-Hot Encoding to Neighborhood\n",
    "from sklearn.preprocessing import OneHotEncoder\n",
    "ohe = OneHotEncoder()\n",
    "\n",
    "one_hot_encoded_colums = ['HouseStyle', 'GarageType', 'Neighborhood', 'Heating', 'Electrical', 'BldgType']\n",
    "X_train_cat_hot_encoded_array = ohe.fit_transform(X_train_cat[one_hot_encoded_colums]).toarray()\n",
    "X_train_cat_hot_encoded = pd.DataFrame(X_train_cat_hot_encoded_array, columns=ohe.get_feature_names_out())\n",
    "X_train_cat_not_one_encoded = X_train_cat.drop(one_hot_encoded_colums, axis=1)\n",
    "X_train_cat = pd.concat([X_train_cat_hot_encoded, X_train_cat_not_one_encoded], axis=1)"
   ]
  },
  {
   "cell_type": "markdown",
   "id": "dd816693",
   "metadata": {},
   "source": [
    "### Model training"
   ]
  },
  {
   "cell_type": "code",
   "execution_count": 15,
   "id": "71ae0521",
   "metadata": {
    "ExecuteTime": {
     "end_time": "2022-04-24T13:30:40.669481Z",
     "start_time": "2022-04-24T13:30:40.664538Z"
    }
   },
   "outputs": [],
   "source": [
    "# Metric\n",
    "import numpy as np\n",
    "from sklearn.metrics import r2_score\n",
    "from sklearn.metrics import mean_squared_log_error\n",
    "\n",
    "def compute_rmsle(y_test: np.ndarray, y_pred: np.ndarray, precision: int = 2) -> float:\n",
    "    rmsle = np.sqrt(mean_squared_log_error(y_test, y_pred))\n",
    "    return round(rmsle, precision)"
   ]
  },
  {
   "cell_type": "code",
   "execution_count": 16,
   "id": "5e59b486",
   "metadata": {
    "ExecuteTime": {
     "end_time": "2022-04-24T13:30:42.366317Z",
     "start_time": "2022-04-24T13:30:42.350078Z"
    }
   },
   "outputs": [],
   "source": [
    "from sklearn.linear_model import LinearRegression\n",
    "from sklearn.model_selection import train_test_split\n",
    "from sklearn.preprocessing import StandardScaler\n",
    "\n",
    "X_train = pd.concat([X_train_con, X_train_cat], axis = 1)\n",
    "\n",
    "# Scaling\n",
    "std_scaler = StandardScaler()\n",
    "X_train.loc[:, selected_continuous_features] = std_scaler.fit_transform(X_train.loc[:, selected_continuous_features])"
   ]
  },
  {
   "cell_type": "code",
   "execution_count": 17,
   "id": "162f3b2a",
   "metadata": {
    "ExecuteTime": {
     "end_time": "2022-04-24T13:30:53.993525Z",
     "start_time": "2022-04-24T13:30:53.946263Z"
    }
   },
   "outputs": [
    {
     "data": {
      "text/plain": [
       "LinearRegression()"
      ]
     },
     "execution_count": 17,
     "metadata": {},
     "output_type": "execute_result"
    }
   ],
   "source": [
    "from sklearn.linear_model import LinearRegression\n",
    "\n",
    "# Train\n",
    "model = LinearRegression()\n",
    "model.fit(X_train, y_train)"
   ]
  },
  {
   "cell_type": "markdown",
   "id": "faeff36f",
   "metadata": {},
   "source": [
    "## Model evaluation"
   ]
  },
  {
   "cell_type": "code",
   "execution_count": 18,
   "id": "6e63d787",
   "metadata": {
    "ExecuteTime": {
     "end_time": "2022-04-24T13:30:57.560645Z",
     "start_time": "2022-04-24T13:30:57.495669Z"
    }
   },
   "outputs": [
    {
     "data": {
      "text/html": [
       "<div>\n",
       "<style scoped>\n",
       "    .dataframe tbody tr th:only-of-type {\n",
       "        vertical-align: middle;\n",
       "    }\n",
       "\n",
       "    .dataframe tbody tr th {\n",
       "        vertical-align: top;\n",
       "    }\n",
       "\n",
       "    .dataframe thead th {\n",
       "        text-align: right;\n",
       "    }\n",
       "</style>\n",
       "<table border=\"1\" class=\"dataframe\">\n",
       "  <thead>\n",
       "    <tr style=\"text-align: right;\">\n",
       "      <th></th>\n",
       "      <th>Id</th>\n",
       "      <th>MSSubClass</th>\n",
       "      <th>MSZoning</th>\n",
       "      <th>LotFrontage</th>\n",
       "      <th>LotArea</th>\n",
       "      <th>Street</th>\n",
       "      <th>Alley</th>\n",
       "      <th>LotShape</th>\n",
       "      <th>LandContour</th>\n",
       "      <th>Utilities</th>\n",
       "      <th>LotConfig</th>\n",
       "      <th>LandSlope</th>\n",
       "      <th>Neighborhood</th>\n",
       "      <th>Condition1</th>\n",
       "      <th>Condition2</th>\n",
       "      <th>BldgType</th>\n",
       "      <th>HouseStyle</th>\n",
       "      <th>OverallQual</th>\n",
       "      <th>OverallCond</th>\n",
       "      <th>YearBuilt</th>\n",
       "      <th>YearRemodAdd</th>\n",
       "      <th>RoofStyle</th>\n",
       "      <th>RoofMatl</th>\n",
       "      <th>Exterior1st</th>\n",
       "      <th>Exterior2nd</th>\n",
       "      <th>MasVnrType</th>\n",
       "      <th>MasVnrArea</th>\n",
       "      <th>ExterQual</th>\n",
       "      <th>ExterCond</th>\n",
       "      <th>Foundation</th>\n",
       "      <th>BsmtQual</th>\n",
       "      <th>BsmtCond</th>\n",
       "      <th>BsmtExposure</th>\n",
       "      <th>BsmtFinType1</th>\n",
       "      <th>BsmtFinSF1</th>\n",
       "      <th>BsmtFinType2</th>\n",
       "      <th>BsmtFinSF2</th>\n",
       "      <th>BsmtUnfSF</th>\n",
       "      <th>TotalBsmtSF</th>\n",
       "      <th>Heating</th>\n",
       "      <th>HeatingQC</th>\n",
       "      <th>CentralAir</th>\n",
       "      <th>Electrical</th>\n",
       "      <th>1stFlrSF</th>\n",
       "      <th>2ndFlrSF</th>\n",
       "      <th>LowQualFinSF</th>\n",
       "      <th>GrLivArea</th>\n",
       "      <th>BsmtFullBath</th>\n",
       "      <th>BsmtHalfBath</th>\n",
       "      <th>FullBath</th>\n",
       "      <th>HalfBath</th>\n",
       "      <th>BedroomAbvGr</th>\n",
       "      <th>KitchenAbvGr</th>\n",
       "      <th>KitchenQual</th>\n",
       "      <th>TotRmsAbvGrd</th>\n",
       "      <th>Functional</th>\n",
       "      <th>Fireplaces</th>\n",
       "      <th>FireplaceQu</th>\n",
       "      <th>GarageType</th>\n",
       "      <th>GarageYrBlt</th>\n",
       "      <th>GarageFinish</th>\n",
       "      <th>GarageCars</th>\n",
       "      <th>GarageArea</th>\n",
       "      <th>GarageQual</th>\n",
       "      <th>GarageCond</th>\n",
       "      <th>PavedDrive</th>\n",
       "      <th>WoodDeckSF</th>\n",
       "      <th>OpenPorchSF</th>\n",
       "      <th>EnclosedPorch</th>\n",
       "      <th>3SsnPorch</th>\n",
       "      <th>ScreenPorch</th>\n",
       "      <th>PoolArea</th>\n",
       "      <th>PoolQC</th>\n",
       "      <th>Fence</th>\n",
       "      <th>MiscFeature</th>\n",
       "      <th>MiscVal</th>\n",
       "      <th>MoSold</th>\n",
       "      <th>YrSold</th>\n",
       "      <th>SaleType</th>\n",
       "      <th>SaleCondition</th>\n",
       "      <th>SalePrice</th>\n",
       "    </tr>\n",
       "  </thead>\n",
       "  <tbody>\n",
       "    <tr>\n",
       "      <th>271</th>\n",
       "      <td>272</td>\n",
       "      <td>20</td>\n",
       "      <td>RL</td>\n",
       "      <td>73.0</td>\n",
       "      <td>39104</td>\n",
       "      <td>Pave</td>\n",
       "      <td>NaN</td>\n",
       "      <td>IR1</td>\n",
       "      <td>Low</td>\n",
       "      <td>AllPub</td>\n",
       "      <td>CulDSac</td>\n",
       "      <td>Sev</td>\n",
       "      <td>ClearCr</td>\n",
       "      <td>Norm</td>\n",
       "      <td>Norm</td>\n",
       "      <td>1Fam</td>\n",
       "      <td>1Story</td>\n",
       "      <td>7</td>\n",
       "      <td>7</td>\n",
       "      <td>1954</td>\n",
       "      <td>2005</td>\n",
       "      <td>Flat</td>\n",
       "      <td>Membran</td>\n",
       "      <td>Plywood</td>\n",
       "      <td>Plywood</td>\n",
       "      <td>None</td>\n",
       "      <td>0.0</td>\n",
       "      <td>TA</td>\n",
       "      <td>TA</td>\n",
       "      <td>CBlock</td>\n",
       "      <td>Gd</td>\n",
       "      <td>TA</td>\n",
       "      <td>Gd</td>\n",
       "      <td>LwQ</td>\n",
       "      <td>226</td>\n",
       "      <td>GLQ</td>\n",
       "      <td>1063</td>\n",
       "      <td>96</td>\n",
       "      <td>1385</td>\n",
       "      <td>GasA</td>\n",
       "      <td>Ex</td>\n",
       "      <td>Y</td>\n",
       "      <td>SBrkr</td>\n",
       "      <td>1363</td>\n",
       "      <td>0</td>\n",
       "      <td>0</td>\n",
       "      <td>1363</td>\n",
       "      <td>1</td>\n",
       "      <td>0</td>\n",
       "      <td>1</td>\n",
       "      <td>0</td>\n",
       "      <td>2</td>\n",
       "      <td>1</td>\n",
       "      <td>TA</td>\n",
       "      <td>5</td>\n",
       "      <td>Mod</td>\n",
       "      <td>2</td>\n",
       "      <td>TA</td>\n",
       "      <td>Attchd</td>\n",
       "      <td>1954.0</td>\n",
       "      <td>Unf</td>\n",
       "      <td>2</td>\n",
       "      <td>439</td>\n",
       "      <td>TA</td>\n",
       "      <td>TA</td>\n",
       "      <td>Y</td>\n",
       "      <td>81</td>\n",
       "      <td>0</td>\n",
       "      <td>0</td>\n",
       "      <td>0</td>\n",
       "      <td>0</td>\n",
       "      <td>0</td>\n",
       "      <td>NaN</td>\n",
       "      <td>NaN</td>\n",
       "      <td>NaN</td>\n",
       "      <td>0</td>\n",
       "      <td>4</td>\n",
       "      <td>2008</td>\n",
       "      <td>WD</td>\n",
       "      <td>Normal</td>\n",
       "      <td>241500</td>\n",
       "    </tr>\n",
       "    <tr>\n",
       "      <th>445</th>\n",
       "      <td>446</td>\n",
       "      <td>20</td>\n",
       "      <td>RL</td>\n",
       "      <td>73.0</td>\n",
       "      <td>9855</td>\n",
       "      <td>Pave</td>\n",
       "      <td>NaN</td>\n",
       "      <td>Reg</td>\n",
       "      <td>Lvl</td>\n",
       "      <td>AllPub</td>\n",
       "      <td>Corner</td>\n",
       "      <td>Gtl</td>\n",
       "      <td>Edwards</td>\n",
       "      <td>Norm</td>\n",
       "      <td>Norm</td>\n",
       "      <td>1Fam</td>\n",
       "      <td>1Story</td>\n",
       "      <td>6</td>\n",
       "      <td>5</td>\n",
       "      <td>1956</td>\n",
       "      <td>1956</td>\n",
       "      <td>Hip</td>\n",
       "      <td>CompShg</td>\n",
       "      <td>Wd Sdng</td>\n",
       "      <td>Wd Sdng</td>\n",
       "      <td>None</td>\n",
       "      <td>0.0</td>\n",
       "      <td>TA</td>\n",
       "      <td>TA</td>\n",
       "      <td>CBlock</td>\n",
       "      <td>TA</td>\n",
       "      <td>TA</td>\n",
       "      <td>No</td>\n",
       "      <td>Unf</td>\n",
       "      <td>0</td>\n",
       "      <td>Unf</td>\n",
       "      <td>0</td>\n",
       "      <td>1436</td>\n",
       "      <td>1436</td>\n",
       "      <td>GasA</td>\n",
       "      <td>Fa</td>\n",
       "      <td>Y</td>\n",
       "      <td>SBrkr</td>\n",
       "      <td>1689</td>\n",
       "      <td>0</td>\n",
       "      <td>0</td>\n",
       "      <td>1689</td>\n",
       "      <td>0</td>\n",
       "      <td>0</td>\n",
       "      <td>1</td>\n",
       "      <td>0</td>\n",
       "      <td>3</td>\n",
       "      <td>1</td>\n",
       "      <td>TA</td>\n",
       "      <td>7</td>\n",
       "      <td>Typ</td>\n",
       "      <td>1</td>\n",
       "      <td>Gd</td>\n",
       "      <td>Attchd</td>\n",
       "      <td>1956.0</td>\n",
       "      <td>Unf</td>\n",
       "      <td>2</td>\n",
       "      <td>480</td>\n",
       "      <td>TA</td>\n",
       "      <td>TA</td>\n",
       "      <td>Y</td>\n",
       "      <td>0</td>\n",
       "      <td>0</td>\n",
       "      <td>0</td>\n",
       "      <td>0</td>\n",
       "      <td>0</td>\n",
       "      <td>0</td>\n",
       "      <td>NaN</td>\n",
       "      <td>MnPrv</td>\n",
       "      <td>NaN</td>\n",
       "      <td>0</td>\n",
       "      <td>11</td>\n",
       "      <td>2009</td>\n",
       "      <td>COD</td>\n",
       "      <td>Normal</td>\n",
       "      <td>127500</td>\n",
       "    </tr>\n",
       "    <tr>\n",
       "      <th>654</th>\n",
       "      <td>655</td>\n",
       "      <td>20</td>\n",
       "      <td>RL</td>\n",
       "      <td>91.0</td>\n",
       "      <td>10437</td>\n",
       "      <td>Pave</td>\n",
       "      <td>NaN</td>\n",
       "      <td>IR1</td>\n",
       "      <td>Lvl</td>\n",
       "      <td>AllPub</td>\n",
       "      <td>Inside</td>\n",
       "      <td>Gtl</td>\n",
       "      <td>NoRidge</td>\n",
       "      <td>Norm</td>\n",
       "      <td>Norm</td>\n",
       "      <td>1Fam</td>\n",
       "      <td>1Story</td>\n",
       "      <td>8</td>\n",
       "      <td>6</td>\n",
       "      <td>1995</td>\n",
       "      <td>1995</td>\n",
       "      <td>Hip</td>\n",
       "      <td>CompShg</td>\n",
       "      <td>MetalSd</td>\n",
       "      <td>MetalSd</td>\n",
       "      <td>BrkFace</td>\n",
       "      <td>660.0</td>\n",
       "      <td>Gd</td>\n",
       "      <td>Gd</td>\n",
       "      <td>PConc</td>\n",
       "      <td>Gd</td>\n",
       "      <td>TA</td>\n",
       "      <td>Gd</td>\n",
       "      <td>GLQ</td>\n",
       "      <td>1696</td>\n",
       "      <td>Unf</td>\n",
       "      <td>0</td>\n",
       "      <td>413</td>\n",
       "      <td>2109</td>\n",
       "      <td>GasA</td>\n",
       "      <td>Ex</td>\n",
       "      <td>Y</td>\n",
       "      <td>SBrkr</td>\n",
       "      <td>2113</td>\n",
       "      <td>0</td>\n",
       "      <td>0</td>\n",
       "      <td>2113</td>\n",
       "      <td>1</td>\n",
       "      <td>0</td>\n",
       "      <td>2</td>\n",
       "      <td>1</td>\n",
       "      <td>2</td>\n",
       "      <td>1</td>\n",
       "      <td>Gd</td>\n",
       "      <td>7</td>\n",
       "      <td>Typ</td>\n",
       "      <td>1</td>\n",
       "      <td>TA</td>\n",
       "      <td>Attchd</td>\n",
       "      <td>1995.0</td>\n",
       "      <td>Fin</td>\n",
       "      <td>3</td>\n",
       "      <td>839</td>\n",
       "      <td>TA</td>\n",
       "      <td>TA</td>\n",
       "      <td>Y</td>\n",
       "      <td>236</td>\n",
       "      <td>46</td>\n",
       "      <td>0</td>\n",
       "      <td>0</td>\n",
       "      <td>0</td>\n",
       "      <td>0</td>\n",
       "      <td>NaN</td>\n",
       "      <td>NaN</td>\n",
       "      <td>NaN</td>\n",
       "      <td>0</td>\n",
       "      <td>8</td>\n",
       "      <td>2008</td>\n",
       "      <td>WD</td>\n",
       "      <td>Normal</td>\n",
       "      <td>350000</td>\n",
       "    </tr>\n",
       "    <tr>\n",
       "      <th>1280</th>\n",
       "      <td>1281</td>\n",
       "      <td>20</td>\n",
       "      <td>RL</td>\n",
       "      <td>67.0</td>\n",
       "      <td>9808</td>\n",
       "      <td>Pave</td>\n",
       "      <td>NaN</td>\n",
       "      <td>IR1</td>\n",
       "      <td>Lvl</td>\n",
       "      <td>AllPub</td>\n",
       "      <td>Inside</td>\n",
       "      <td>Gtl</td>\n",
       "      <td>CollgCr</td>\n",
       "      <td>Norm</td>\n",
       "      <td>Norm</td>\n",
       "      <td>1Fam</td>\n",
       "      <td>1Story</td>\n",
       "      <td>7</td>\n",
       "      <td>5</td>\n",
       "      <td>2002</td>\n",
       "      <td>2002</td>\n",
       "      <td>Gable</td>\n",
       "      <td>CompShg</td>\n",
       "      <td>VinylSd</td>\n",
       "      <td>VinylSd</td>\n",
       "      <td>BrkFace</td>\n",
       "      <td>110.0</td>\n",
       "      <td>Gd</td>\n",
       "      <td>TA</td>\n",
       "      <td>PConc</td>\n",
       "      <td>Gd</td>\n",
       "      <td>TA</td>\n",
       "      <td>No</td>\n",
       "      <td>GLQ</td>\n",
       "      <td>788</td>\n",
       "      <td>Unf</td>\n",
       "      <td>0</td>\n",
       "      <td>785</td>\n",
       "      <td>1573</td>\n",
       "      <td>GasA</td>\n",
       "      <td>Ex</td>\n",
       "      <td>Y</td>\n",
       "      <td>SBrkr</td>\n",
       "      <td>1573</td>\n",
       "      <td>0</td>\n",
       "      <td>0</td>\n",
       "      <td>1573</td>\n",
       "      <td>1</td>\n",
       "      <td>0</td>\n",
       "      <td>2</td>\n",
       "      <td>0</td>\n",
       "      <td>3</td>\n",
       "      <td>1</td>\n",
       "      <td>Gd</td>\n",
       "      <td>6</td>\n",
       "      <td>Typ</td>\n",
       "      <td>0</td>\n",
       "      <td>NaN</td>\n",
       "      <td>Attchd</td>\n",
       "      <td>2002.0</td>\n",
       "      <td>RFn</td>\n",
       "      <td>2</td>\n",
       "      <td>544</td>\n",
       "      <td>TA</td>\n",
       "      <td>TA</td>\n",
       "      <td>Y</td>\n",
       "      <td>0</td>\n",
       "      <td>72</td>\n",
       "      <td>0</td>\n",
       "      <td>0</td>\n",
       "      <td>0</td>\n",
       "      <td>0</td>\n",
       "      <td>NaN</td>\n",
       "      <td>NaN</td>\n",
       "      <td>NaN</td>\n",
       "      <td>0</td>\n",
       "      <td>3</td>\n",
       "      <td>2009</td>\n",
       "      <td>WD</td>\n",
       "      <td>Normal</td>\n",
       "      <td>227000</td>\n",
       "    </tr>\n",
       "    <tr>\n",
       "      <th>898</th>\n",
       "      <td>899</td>\n",
       "      <td>20</td>\n",
       "      <td>RL</td>\n",
       "      <td>100.0</td>\n",
       "      <td>12919</td>\n",
       "      <td>Pave</td>\n",
       "      <td>NaN</td>\n",
       "      <td>IR1</td>\n",
       "      <td>Lvl</td>\n",
       "      <td>AllPub</td>\n",
       "      <td>Inside</td>\n",
       "      <td>Gtl</td>\n",
       "      <td>NridgHt</td>\n",
       "      <td>Norm</td>\n",
       "      <td>Norm</td>\n",
       "      <td>1Fam</td>\n",
       "      <td>1Story</td>\n",
       "      <td>9</td>\n",
       "      <td>5</td>\n",
       "      <td>2009</td>\n",
       "      <td>2010</td>\n",
       "      <td>Hip</td>\n",
       "      <td>CompShg</td>\n",
       "      <td>VinylSd</td>\n",
       "      <td>VinylSd</td>\n",
       "      <td>Stone</td>\n",
       "      <td>760.0</td>\n",
       "      <td>Ex</td>\n",
       "      <td>TA</td>\n",
       "      <td>PConc</td>\n",
       "      <td>Ex</td>\n",
       "      <td>TA</td>\n",
       "      <td>Gd</td>\n",
       "      <td>GLQ</td>\n",
       "      <td>2188</td>\n",
       "      <td>Unf</td>\n",
       "      <td>0</td>\n",
       "      <td>142</td>\n",
       "      <td>2330</td>\n",
       "      <td>GasA</td>\n",
       "      <td>Ex</td>\n",
       "      <td>Y</td>\n",
       "      <td>SBrkr</td>\n",
       "      <td>2364</td>\n",
       "      <td>0</td>\n",
       "      <td>0</td>\n",
       "      <td>2364</td>\n",
       "      <td>1</td>\n",
       "      <td>0</td>\n",
       "      <td>2</td>\n",
       "      <td>1</td>\n",
       "      <td>2</td>\n",
       "      <td>1</td>\n",
       "      <td>Ex</td>\n",
       "      <td>11</td>\n",
       "      <td>Typ</td>\n",
       "      <td>2</td>\n",
       "      <td>Gd</td>\n",
       "      <td>Attchd</td>\n",
       "      <td>2009.0</td>\n",
       "      <td>Fin</td>\n",
       "      <td>3</td>\n",
       "      <td>820</td>\n",
       "      <td>TA</td>\n",
       "      <td>TA</td>\n",
       "      <td>Y</td>\n",
       "      <td>0</td>\n",
       "      <td>67</td>\n",
       "      <td>0</td>\n",
       "      <td>0</td>\n",
       "      <td>0</td>\n",
       "      <td>0</td>\n",
       "      <td>NaN</td>\n",
       "      <td>NaN</td>\n",
       "      <td>NaN</td>\n",
       "      <td>0</td>\n",
       "      <td>3</td>\n",
       "      <td>2010</td>\n",
       "      <td>New</td>\n",
       "      <td>Partial</td>\n",
       "      <td>611657</td>\n",
       "    </tr>\n",
       "  </tbody>\n",
       "</table>\n",
       "</div>"
      ],
      "text/plain": [
       "        Id  MSSubClass MSZoning  LotFrontage  LotArea Street Alley LotShape LandContour Utilities LotConfig LandSlope Neighborhood Condition1 Condition2 BldgType HouseStyle  OverallQual  OverallCond  YearBuilt  YearRemodAdd RoofStyle RoofMatl Exterior1st Exterior2nd MasVnrType  MasVnrArea ExterQual ExterCond Foundation BsmtQual BsmtCond BsmtExposure BsmtFinType1  BsmtFinSF1 BsmtFinType2  BsmtFinSF2  BsmtUnfSF  TotalBsmtSF Heating HeatingQC CentralAir Electrical  1stFlrSF  2ndFlrSF  LowQualFinSF  GrLivArea  BsmtFullBath  BsmtHalfBath  FullBath  HalfBath  BedroomAbvGr  KitchenAbvGr KitchenQual  TotRmsAbvGrd Functional  Fireplaces FireplaceQu GarageType  GarageYrBlt GarageFinish  GarageCars  GarageArea GarageQual GarageCond PavedDrive  WoodDeckSF  OpenPorchSF  EnclosedPorch  3SsnPorch  ScreenPorch  PoolArea PoolQC  Fence MiscFeature  MiscVal  MoSold  YrSold SaleType SaleCondition  SalePrice\n",
       "271    272          20       RL         73.0    39104   Pave   NaN      IR1         Low    AllPub   CulDSac       Sev      ClearCr       Norm       Norm     1Fam     1Story            7            7       1954          2005      Flat  Membran     Plywood     Plywood       None         0.0        TA        TA     CBlock       Gd       TA           Gd          LwQ         226          GLQ        1063         96         1385    GasA        Ex          Y      SBrkr      1363         0             0       1363             1             0         1         0             2             1          TA             5        Mod           2          TA     Attchd       1954.0          Unf           2         439         TA         TA          Y          81            0              0          0            0         0    NaN    NaN         NaN        0       4    2008       WD        Normal     241500\n",
       "445    446          20       RL         73.0     9855   Pave   NaN      Reg         Lvl    AllPub    Corner       Gtl      Edwards       Norm       Norm     1Fam     1Story            6            5       1956          1956       Hip  CompShg     Wd Sdng     Wd Sdng       None         0.0        TA        TA     CBlock       TA       TA           No          Unf           0          Unf           0       1436         1436    GasA        Fa          Y      SBrkr      1689         0             0       1689             0             0         1         0             3             1          TA             7        Typ           1          Gd     Attchd       1956.0          Unf           2         480         TA         TA          Y           0            0              0          0            0         0    NaN  MnPrv         NaN        0      11    2009      COD        Normal     127500\n",
       "654    655          20       RL         91.0    10437   Pave   NaN      IR1         Lvl    AllPub    Inside       Gtl      NoRidge       Norm       Norm     1Fam     1Story            8            6       1995          1995       Hip  CompShg     MetalSd     MetalSd    BrkFace       660.0        Gd        Gd      PConc       Gd       TA           Gd          GLQ        1696          Unf           0        413         2109    GasA        Ex          Y      SBrkr      2113         0             0       2113             1             0         2         1             2             1          Gd             7        Typ           1          TA     Attchd       1995.0          Fin           3         839         TA         TA          Y         236           46              0          0            0         0    NaN    NaN         NaN        0       8    2008       WD        Normal     350000\n",
       "1280  1281          20       RL         67.0     9808   Pave   NaN      IR1         Lvl    AllPub    Inside       Gtl      CollgCr       Norm       Norm     1Fam     1Story            7            5       2002          2002     Gable  CompShg     VinylSd     VinylSd    BrkFace       110.0        Gd        TA      PConc       Gd       TA           No          GLQ         788          Unf           0        785         1573    GasA        Ex          Y      SBrkr      1573         0             0       1573             1             0         2         0             3             1          Gd             6        Typ           0         NaN     Attchd       2002.0          RFn           2         544         TA         TA          Y           0           72              0          0            0         0    NaN    NaN         NaN        0       3    2009       WD        Normal     227000\n",
       "898    899          20       RL        100.0    12919   Pave   NaN      IR1         Lvl    AllPub    Inside       Gtl      NridgHt       Norm       Norm     1Fam     1Story            9            5       2009          2010       Hip  CompShg     VinylSd     VinylSd      Stone       760.0        Ex        TA      PConc       Ex       TA           Gd          GLQ        2188          Unf           0        142         2330    GasA        Ex          Y      SBrkr      2364         0             0       2364             1             0         2         1             2             1          Ex            11        Typ           2          Gd     Attchd       2009.0          Fin           3         820         TA         TA          Y           0           67              0          0            0         0    NaN    NaN         NaN        0       3    2010      New       Partial     611657"
      ]
     },
     "execution_count": 18,
     "metadata": {},
     "output_type": "execute_result"
    }
   ],
   "source": [
    "test_data.tail(5)"
   ]
  },
  {
   "cell_type": "code",
   "execution_count": 19,
   "id": "7550f740",
   "metadata": {
    "ExecuteTime": {
     "end_time": "2022-04-24T13:30:59.260815Z",
     "start_time": "2022-04-24T13:30:59.250092Z"
    }
   },
   "outputs": [
    {
     "data": {
      "text/plain": [
       "(438, 81)"
      ]
     },
     "execution_count": 19,
     "metadata": {},
     "output_type": "execute_result"
    }
   ],
   "source": [
    "test_data.shape"
   ]
  },
  {
   "cell_type": "markdown",
   "id": "4c713b14",
   "metadata": {},
   "source": [
    "### Data Preprocessing"
   ]
  },
  {
   "cell_type": "code",
   "execution_count": 20,
   "id": "156fff23",
   "metadata": {
    "ExecuteTime": {
     "end_time": "2022-04-24T13:32:30.680784Z",
     "start_time": "2022-04-24T13:32:30.652051Z"
    },
    "scrolled": true
   },
   "outputs": [],
   "source": [
    "# Adjust Feature Types, Some categorical features appeared as continuous\n",
    "test_data = test_data.astype({\n",
    "    \"MSSubClass\": object,\n",
    "    \"OverallQual\": object,\n",
    "    \"OverallCond\": object,\n",
    "    \"MoSold\": object,\n",
    "    \"YrSold\": object,\n",
    "    \"YearBuilt\": object,\n",
    "    \"YearRemodAdd\": object,\n",
    "    \"BsmtFullBath\": object,\n",
    "    \"BsmtHalfBath\": object,\n",
    "    \"FullBath\": object,\n",
    "    \"HalfBath\": object,\n",
    "    \"BedroomAbvGr\": object,\n",
    "    \"KitchenAbvGr\": object,\n",
    "    \"TotRmsAbvGrd\": object,\n",
    "    \"Fireplaces\": object,\n",
    "    \"GarageYrBlt\": object,\n",
    "    \"GarageCars\": object\n",
    "})"
   ]
  },
  {
   "cell_type": "code",
   "execution_count": 21,
   "id": "d87d4b55",
   "metadata": {
    "ExecuteTime": {
     "end_time": "2022-04-24T13:32:35.815055Z",
     "start_time": "2022-04-24T13:32:35.800977Z"
    }
   },
   "outputs": [],
   "source": [
    "todays_date = date.today()\n",
    "test_data['YearsSinceBuilt'] = todays_date.year - test_data['YearBuilt']\n",
    "test_data['YearsSinceRemodAdd'] = todays_date.year - test_data['YearRemodAdd']\n",
    "test_data['YearsSinceGarageYrBlt'] = todays_date.year - test_data['GarageYrBlt']"
   ]
  },
  {
   "cell_type": "markdown",
   "id": "64b56541",
   "metadata": {},
   "source": [
    "### Data Cleaning"
   ]
  },
  {
   "cell_type": "code",
   "execution_count": 22,
   "id": "964322f5",
   "metadata": {
    "ExecuteTime": {
     "end_time": "2022-04-24T13:32:39.228564Z",
     "start_time": "2022-04-24T13:32:39.217992Z"
    }
   },
   "outputs": [],
   "source": [
    "selected_features = ['GrLivArea', 'GarageArea', 'TotalBsmtSF', 'HouseStyle', 'Neighborhood', 'OverallQual', 'ExterQual', 'KitchenQual', 'Functional', 'FireplaceQu', 'YearsSinceBuilt', 'YearsSinceRemodAdd', 'BsmtExposure', 'HalfBath', 'YearsSinceGarageYrBlt', 'Electrical', 'BsmtFullBath', 'BldgType', 'KitchenAbvGr', 'Heating', 'CentralAir', 'GarageType', 'GarageFinish', 'BsmtQual', 'SalePrice']\n",
    "test_data = test_data[selected_features]"
   ]
  },
  {
   "cell_type": "code",
   "execution_count": 23,
   "id": "50f5b0e0",
   "metadata": {
    "ExecuteTime": {
     "end_time": "2022-04-24T13:32:42.648055Z",
     "start_time": "2022-04-24T13:32:42.624059Z"
    }
   },
   "outputs": [
    {
     "data": {
      "text/plain": [
       "0"
      ]
     },
     "execution_count": 23,
     "metadata": {},
     "output_type": "execute_result"
    }
   ],
   "source": [
    "%%capture --no-display\n",
    "# Specify null values in BsmtQual as No (No basement)\n",
    "test_data.loc[:, 'BsmtQual'] = test_data.loc[:, 'BsmtQual'].fillna('No')\n",
    "test_data.loc[:, 'GarageType'] = test_data.loc[:, 'GarageType'].fillna('No')\n",
    "test_data.loc[:, 'GarageFinish'] = test_data.loc[:, 'GarageFinish'].fillna('No')\n",
    "test_data.loc[:, 'FireplaceQu'] = test_data.loc[:, 'FireplaceQu'].fillna('No')\n",
    "test_data.loc[:, 'BsmtExposure'] = test_data.loc[:, 'BsmtExposure'].fillna('No')\n",
    "test_data.loc[:, 'YearsSinceGarageYrBlt'] = test_data.loc[:, 'YearsSinceGarageYrBlt'].fillna(0)\n",
    "\n",
    "test_data = test_data.dropna(subset='Electrical')\n",
    "test_data.reset_index(inplace=True)\n",
    "\n",
    "test_data.isna().values.sum()"
   ]
  },
  {
   "cell_type": "markdown",
   "id": "77cfba55",
   "metadata": {},
   "source": [
    "### Data Selection"
   ]
  },
  {
   "cell_type": "code",
   "execution_count": 24,
   "id": "69c9c27b",
   "metadata": {
    "ExecuteTime": {
     "end_time": "2022-04-24T13:33:03.730896Z",
     "start_time": "2022-04-24T13:33:03.723174Z"
    }
   },
   "outputs": [],
   "source": [
    "selected_categorical_features = ['HouseStyle', 'CentralAir', 'GarageType', 'GarageFinish', 'Neighborhood', 'OverallQual', 'ExterQual', 'KitchenQual', 'Functional', 'FireplaceQu', 'Heating', 'BsmtExposure', 'HalfBath', 'YearsSinceGarageYrBlt', 'Electrical', 'BsmtFullBath', 'BldgType', 'KitchenAbvGr', 'BsmtQual']\n",
    "selected_continuous_features = ['GrLivArea', 'GarageArea', 'TotalBsmtSF', 'YearsSinceBuilt', 'YearsSinceRemodAdd']\n",
    "\n",
    "# Our target feature\n",
    "# Transformate it using the log function to correct the distribution\n",
    "y_test = np.log1p(test_data['SalePrice'])\n",
    "\n",
    "# Our predictors\n",
    "X_test_cat = test_data[selected_categorical_features]\n",
    "X_test_con = test_data[selected_continuous_features]"
   ]
  },
  {
   "cell_type": "markdown",
   "id": "9e2fa969",
   "metadata": {},
   "source": [
    "### Data Transformation"
   ]
  },
  {
   "cell_type": "code",
   "execution_count": 25,
   "id": "0bde644b",
   "metadata": {
    "ExecuteTime": {
     "end_time": "2022-04-24T13:33:18.516814Z",
     "start_time": "2022-04-24T13:33:18.429674Z"
    }
   },
   "outputs": [
    {
     "name": "stderr",
     "output_type": "stream",
     "text": [
      "/tmp/ipykernel_23733/4276276379.py:4: SettingWithCopyWarning: \n",
      "A value is trying to be set on a copy of a slice from a DataFrame.\n",
      "Try using .loc[row_indexer,col_indexer] = value instead\n",
      "\n",
      "See the caveats in the documentation: https://pandas.pydata.org/pandas-docs/stable/user_guide/indexing.html#returning-a-view-versus-a-copy\n",
      "  X_test_con[skewed_features] = np.log1p(X_test_con[skewed_features].astype(float))\n"
     ]
    }
   ],
   "source": [
    "skewness = X_test_con.apply(lambda x: skew(x))\n",
    "skewness = skewness[abs(skewness) > 0.5]\n",
    "skewed_features = skewness.index\n",
    "X_test_con[skewed_features] = np.log1p(X_test_con[skewed_features].astype(float))"
   ]
  },
  {
   "cell_type": "markdown",
   "id": "8c33a403",
   "metadata": {},
   "source": [
    "### Data Encoding"
   ]
  },
  {
   "cell_type": "markdown",
   "id": "2e600c47",
   "metadata": {},
   "source": [
    "#### Ordinal Encoding"
   ]
  },
  {
   "cell_type": "code",
   "execution_count": 26,
   "id": "89afb263",
   "metadata": {
    "ExecuteTime": {
     "end_time": "2022-04-24T13:34:43.977543Z",
     "start_time": "2022-04-24T13:34:43.958720Z"
    }
   },
   "outputs": [],
   "source": [
    "X_test_cat_ordinal_encoded_array = oe.transform(X_test_cat[ordinal_encoded_colums])\n",
    "X_test_cat_ordinal_encoded = pd.DataFrame(X_test_cat_ordinal_encoded_array, columns=ordinal_encoded_colums)\n",
    "X_test_cat_not_one_encoded = X_test_cat.drop(ordinal_encoded_colums, axis=1)\n",
    "X_test_cat = pd.concat([X_test_cat_ordinal_encoded, X_test_cat_not_one_encoded], axis=1)"
   ]
  },
  {
   "cell_type": "markdown",
   "id": "449ca2fe",
   "metadata": {},
   "source": [
    "#### One-Hot Encoding"
   ]
  },
  {
   "cell_type": "code",
   "execution_count": 27,
   "id": "d457488e",
   "metadata": {
    "ExecuteTime": {
     "end_time": "2022-04-24T13:35:35.863349Z",
     "start_time": "2022-04-24T13:35:35.844863Z"
    }
   },
   "outputs": [],
   "source": [
    "X_test_cat_hot_encoded_array = ohe.transform(X_test_cat[one_hot_encoded_colums]).toarray()\n",
    "X_test_cat_hot_encoded = pd.DataFrame(X_test_cat_hot_encoded_array, columns=ohe.get_feature_names_out())\n",
    "X_test_cat_not_one_encoded = X_test_cat.drop(one_hot_encoded_colums, axis=1)\n",
    "X_test_cat = pd.concat([X_test_cat_hot_encoded, X_test_cat_not_one_encoded], axis=1)"
   ]
  },
  {
   "cell_type": "markdown",
   "id": "5f6f0d04",
   "metadata": {
    "ExecuteTime": {
     "end_time": "2022-04-24T13:09:04.056705Z",
     "start_time": "2022-04-24T13:09:03.952716Z"
    }
   },
   "source": [
    "### Model predictions"
   ]
  },
  {
   "cell_type": "code",
   "execution_count": 28,
   "id": "dd866ddf",
   "metadata": {
    "ExecuteTime": {
     "end_time": "2022-04-24T13:38:09.280244Z",
     "start_time": "2022-04-24T13:38:09.261174Z"
    }
   },
   "outputs": [],
   "source": [
    "X_test = pd.concat([X_test_con, X_test_cat], axis = 1)\n",
    "\n",
    "# Scaling\n",
    "X_test.loc[:, selected_continuous_features] = std_scaler.transform(X_test.loc[:, selected_continuous_features])\n",
    "\n",
    "y_pred = model.predict(X_test)"
   ]
  },
  {
   "cell_type": "markdown",
   "id": "cf6db0ca",
   "metadata": {},
   "source": [
    "### Model evaluation"
   ]
  },
  {
   "cell_type": "code",
   "execution_count": 29,
   "id": "f2b63fe6",
   "metadata": {
    "ExecuteTime": {
     "end_time": "2022-04-24T13:38:13.588174Z",
     "start_time": "2022-04-24T13:38:13.581757Z"
    }
   },
   "outputs": [
    {
     "data": {
      "text/plain": [
       "0.01"
      ]
     },
     "execution_count": 29,
     "metadata": {},
     "output_type": "execute_result"
    }
   ],
   "source": [
    "compute_rmsle(y_test, y_pred)"
   ]
  },
  {
   "cell_type": "markdown",
   "id": "451ba7bc",
   "metadata": {},
   "source": [
    "The <b>RMSLE</b> score is 0.01 <br>\n",
    "I am trying improve it but so far no success."
   ]
  }
 ],
 "metadata": {
  "kernelspec": {
   "display_name": "Python 3 (ipykernel)",
   "language": "python",
   "name": "python3"
  },
  "language_info": {
   "codemirror_mode": {
    "name": "ipython",
    "version": 3
   },
   "file_extension": ".py",
   "mimetype": "text/x-python",
   "name": "python",
   "nbconvert_exporter": "python",
   "pygments_lexer": "ipython3",
   "version": "3.9.12"
  },
  "toc": {
   "base_numbering": 1,
   "nav_menu": {},
   "number_sections": true,
   "sideBar": true,
   "skip_h1_title": false,
   "title_cell": "Table of Contents",
   "title_sidebar": "Contents",
   "toc_cell": false,
   "toc_position": {},
   "toc_section_display": true,
   "toc_window_display": false
  }
 },
 "nbformat": 4,
 "nbformat_minor": 5
}
